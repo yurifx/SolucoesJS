{
  "nbformat": 4,
  "nbformat_minor": 0,
  "metadata": {
    "anaconda-cloud": {},
    "kernelspec": {
      "display_name": "Python 3",
      "language": "python",
      "name": "python3"
    },
    "language_info": {
      "codemirror_mode": {
        "name": "ipython",
        "version": 3
      },
      "file_extension": ".py",
      "mimetype": "text/x-python",
      "name": "python",
      "nbconvert_exporter": "python",
      "pygments_lexer": "ipython3",
      "version": "3.7.5"
    },
    "colab": {
      "name": "Avaliação_P2.ipynb",
      "provenance": [],
      "collapsed_sections": [],
      "include_colab_link": true
    }
  },
  "cells": [
    {
      "cell_type": "markdown",
      "metadata": {
        "id": "view-in-github",
        "colab_type": "text"
      },
      "source": [
        "<a href=\"https://colab.research.google.com/github/yurivasconcelos/Javascript/blob/master/Avalia%C3%A7%C3%A3o_P2.ipynb\" target=\"_parent\"><img src=\"https://colab.research.google.com/assets/colab-badge.svg\" alt=\"Open In Colab\"/></a>"
      ]
    },
    {
      "cell_type": "markdown",
      "metadata": {
        "id": "ocR-NYYcKrgO",
        "colab_type": "text"
      },
      "source": [
        "# Trabalhando com dados Fluviométricos do Córrego da Pedreira \n",
        "\n",
        "Os dados de vazão são essenciais para avaliação do balanço hidrológico em bacias hidrográficas. Entretanto, realizar medições fluviométricas diretas periodicamente é um desafio, devido aos custos operacionais. Sendo assim, uma forma indireta de obter dados de vazão é medindo a altura da lâmina d'água e a área da seção transversal do escoamento. A leitura do nível d'água pode ser obtida de maneira automática com  sensores eletrônicos. \n",
        "\n",
        "A figura abaixo à direita ilustra um sensor ultrassônico instalado em uma seção canalizada do córrego da Pedreira, um afluente do rio Belém. O sistema de medição registra a leitura da distância entre o sensor e a lâmina d'água (linha vermelha na figura da esquerda abaixo). Os dados são obtidos periodicamente e salvos em um cartão de memória.\n",
        "\n",
        "<img src=\"https://drive.google.com/uc?export=view&id=18XqiiHUHq3MoV3koqn0Oq9ggqNTnW-5U\" width=\"300\"/> <img src=\"https://drive.google.com/uc?export=view&id=1NiGpdaX1CgtGZbSxDFo2gf-GNbjd-x8g\" width=\"300\"/> \n",
        "\n",
        "\n"
      ]
    },
    {
      "cell_type": "markdown",
      "metadata": {
        "id": "JK0rCn5M7yYE",
        "colab_type": "text"
      },
      "source": [
        "Com a utilização do sensor ultrassônico, foram realizadas leituras de nível em intervalos de 15 segundos, entre os dias 05/08 e 30/08.\n",
        "Analisando os dados brutos observam-se alguns dados espúrios, necessitando que os mesmos sejam tratados e filtrados antes de serem utilizandos para os cálculos de vazão. \n",
        "\n",
        "**Exercício I:** Organizar os dados de medição de nível, seguindo os seguintes passos:\n",
        "\n",
        "1. Leitura dos dados de distância (linha vermelha da figura acima à esquerda) do arquivo CSV. O arquivo CSV contém uma coluna para a data e hora (no formado ddmmaaaa HH:MM:SS) e outra coluna com os dados de distância em centímetros. Você pode acessá-lo no link:(https://www.dropbox.com/s/htfwy819slzcxkt/dados_ultrassonico.csv?dl=0). **Nessa seção o/a discente deverá fazer 3 coisas:**\n",
        "\n",
        "**a) Criar um Dataframe e nomear o título das colunas de acordo com a lista: ['data_hora','dist_cm']**\n",
        "\n",
        "**b) Definir a coluna 'data_hora' como o índice do dataframe.**\n",
        "\n",
        "**c) A coluna 'data_hora' deverá ser configurada como o formato de data padrão: aaaa-mm-dd HH:MM:SS**\n",
        "\n",
        "2. Filtragem dos dados espúrios (errôneos). Existem algumas medições onde a distância foi registrada como zero e outras medições em que a distância aparece maior do que 100 cm. O filtro deve ser construído para retirar os valores zero e os valores acima de 100 cm. **Nessa seção o/a discente deverá responder: Quantas linhas foram retiradas do Dataframe?**\n",
        "\n",
        "3. Calcular os valores de nível com base nas medições de distância considerando a distância total entre o sensor e o fundo do canal de 83,80 centímetros (linha verde da figura acima à esquerda). **Nessa seção o/a discente deverá criar uma nova coluna no Dataframe intitulada 'dist_cm' com altura da lâmina d'água para cada medição. Além disso, deverá ser calculada a média do nível d'água.**\n",
        "\n",
        "\n",
        "4. Calcular a Média horária dos dados de nível. Não é para calcular o perfil diário (média horária de todos os dias). É para calcular a média de cada intervalo de 60 minutos entre os dias 05/08 e 30/08. **Nessa seção o/a discente deverá criar um gráfico das médias horárias ao longo do tempo**\n",
        "\n",
        "5. Calcular a Média diária dos dados de nível. **Nessa seção o/a discente deverá criar um gráfico das médias diárias ao longo do tempo**\n",
        "\n"
      ]
    },
    {
      "cell_type": "code",
      "metadata": {
        "id": "aG4ZWgXy_DQM",
        "colab_type": "code",
        "colab": {
          "base_uri": "https://localhost:8080/",
          "height": 70
        },
        "outputId": "5d389b35-7199-42d1-b916-7fb004c4f3bd"
      },
      "source": [
        "import numpy as np\n",
        "import pandas as pd\n",
        "from matplotlib import pyplot as plt\n",
        "%matplotlib inline\n",
        "\n",
        "URL= 'https://www.dropbox.com/s/htfwy819slzcxkt/dados_ultrassonico.csv?dl=1'\n",
        "\n",
        "df = pd.read_csv(URL, names=(['data_hora','dist_cm']), sep=';')\n",
        "df['data_hora']=pd.to_datetime(df.data_hora, format = ' %d%m%Y %H:%M:%S')\n",
        "df_index = df.set_index(df['data_hora'])\n",
        "df_drop = df_index.drop('data_hora', inplace=True, axis=1)\n",
        "\n",
        "df = pd.read_csv(URL, names=(['data_hora','dist_cm']), sep=';')\n",
        "df['data_hora']=pd.to_datetime(df.data_hora, format = ' %d%m%Y %H:%M:%S')\n",
        "df_index = df.set_index(df['data_hora'])\n",
        "df_drop = df_index.drop('data_hora', inplace=True, axis=1)\n",
        "\n",
        "filtro = (df_index['dist_cm'] > 0) & (df_index['dist_cm'] < 100)\n",
        "df_filtrado = df_index[filtro]\n",
        "\n",
        "\n",
        "# Totais dataframe:\n",
        "''\n",
        "print('Total data frame origipnal', len(df))\n",
        "print('Total data frame filtrado', len(df_filtrado))\n",
        "print('Total removido', len(df) - len(df_filtrado))\n",
        "\n"
      ],
      "execution_count": 19,
      "outputs": [
        {
          "output_type": "stream",
          "text": [
            "Total data frame original 2123\n",
            "Total data frame filtrado 2082\n",
            "Total removido 41\n"
          ],
          "name": "stdout"
        }
      ]
    },
    {
      "cell_type": "code",
      "metadata": {
        "id": "m_xvrhiUArcv",
        "colab_type": "code",
        "colab": {
          "base_uri": "https://localhost:8080/",
          "height": 731
        },
        "outputId": "c9239052-78dc-4ac9-e313-8d4e01638049"
      },
      "source": [
        ""
      ],
      "execution_count": null,
      "outputs": [
        {
          "output_type": "execute_result",
          "data": {
            "text/plain": [
              "(               data_hora  dist_cm\n",
              " 19   2020-08-05 21:54:52      0.0\n",
              " 59   2020-08-06 07:54:26      0.0\n",
              " 147  2020-08-07 05:53:32      0.0\n",
              " 172  2020-08-07 12:08:17      0.0\n",
              " 228  2020-08-10 19:52:22      0.0\n",
              " 406  2020-08-12 16:05:28      0.0\n",
              " 496  2020-08-13 14:39:14      0.0\n",
              " 768  2020-08-16 10:31:55      0.0\n",
              " 775  2020-08-16 12:16:51      0.0\n",
              " 909  2020-08-17 21:45:28      0.0\n",
              " 978  2020-08-18 14:59:46      0.0\n",
              " 994  2020-08-18 18:59:36      0.0\n",
              " 1020 2020-08-19 01:29:22      0.0\n",
              " 1035 2020-08-19 05:14:14      0.0\n",
              " 1071 2020-08-19 14:13:52      0.0\n",
              " 1080 2020-08-19 16:28:46      0.0\n",
              " 1163 2020-08-20 13:12:53      0.0\n",
              " 1221 2020-08-21 03:42:14      0.0\n",
              " 1239 2020-08-21 08:12:01      0.0\n",
              " 1251 2020-08-21 11:11:53      0.0\n",
              " 1280 2020-08-21 18:26:32      0.0\n",
              " 1289 2020-08-21 20:41:26      0.0\n",
              " 1371 2020-08-22 17:10:29      0.0\n",
              " 1532 2020-08-24 09:23:41      0.0\n",
              " 1654 2020-08-25 15:52:20      0.0\n",
              " 1687 2020-08-26 00:06:59      0.0\n",
              " 1713 2020-08-26 06:36:42      0.0\n",
              " 1729 2020-08-26 10:36:32      0.0\n",
              " 1752 2020-08-26 16:21:17      0.0\n",
              " 1781 2020-08-26 23:24:42      0.0\n",
              " 1805 2020-08-27 05:24:27      0.0\n",
              " 1843 2020-08-27 20:32:41      0.0\n",
              " 1846 2020-08-27 21:17:39      0.0\n",
              " 1881 2020-08-28 06:02:16      0.0\n",
              " 1899 2020-08-28 10:32:04      0.0\n",
              " 1984 2020-08-29 07:46:10      0.0\n",
              " 1989 2020-08-29 09:01:06      0.0\n",
              " 2023 2020-08-29 17:30:46      0.0\n",
              " 2068 2020-08-30 04:45:17      0.0,               data_hora  dist_cm\n",
              " 31  2020-08-06 00:54:44   105.45\n",
              " 359 2020-08-12 04:30:36   208.19)"
            ]
          },
          "metadata": {
            "tags": []
          },
          "execution_count": 175
        }
      ]
    },
    {
      "cell_type": "markdown",
      "metadata": {
        "id": "1GQ4M2YRZsO1",
        "colab_type": "text"
      },
      "source": [
        "\n",
        "\n",
        "```\n",
        "# This is formatted as code\n",
        "```\n",
        "\n",
        "Resposta: Foram retiradas 41 linhas do dataframe."
      ]
    },
    {
      "cell_type": "markdown",
      "metadata": {
        "id": "xkvd0lXUd_qb",
        "colab_type": "text"
      },
      "source": [
        "**Exercício II:** Com os dados já tratados, agora pode-se utilizar de métodos empíricos para o cálculo da vazão. Considere que o córrego está canalizado em uma manilha de 1.50 metros de diâmetro, e a declividade é de 1,27% (0.73°).\n",
        "\n",
        "Realizar o cálculo da vazão ($Q$) associada ao escoamento no canal circular utilizando os dados horários de nível. Uma aproximação da vazão $Q$ pode ser obtida aplicando a equação de Manning: \n",
        "\n",
        "$\\displaystyle Q = \\ \\frac{A}{n}  R^{2/3} S^{1/2}$\n",
        "\n",
        "Sendo que $V$ é a velocidade do escoamento, $R$ é o raio hidráulico, $S$ é a declividade do fundo do canal e $n$ é o coeficiente de rugosidade de Gauckler–Manning. Considere que o valor do coeficiente de Gauckler–Manning é $n = 0.2$ s/m$^{1/3}$.\n",
        "\n",
        "Para obter a vazão o/a discente deverá realizar o produto da velocidade e da área. \n",
        "\n",
        "Observe a figura abaixo e identifique as variáveis: $D$ (diâmetro do tubo), $r$ (raio do tubo), $h$ (altura da lâmina d'água) e $\\theta$ (ângulo em relação ao centro do tubo). \n",
        "\n",
        "<img src=\"https://www.dropbox.com/s/zx1xlfbqd16j5m2/wetted-circle_ok.png?dl=1\" width=\"250\"/> \n",
        "\n",
        "Para proceder com os cálculos sugere-se :\n",
        "\n",
        "1. Calcular $\\theta$ (em radianos) de acordo com as fórmulas abaixo, sendo que $h$ é a altura da lâmina d'água.\n",
        "2. Cálculo da área molhada\n",
        "3. Cálculo do perímetro molhado\n",
        "4. Cálculo do raio hidráulico\n",
        "5. Cálculo da velocidade média\n",
        "6. Cálculo da vazão\n",
        "\n",
        "A seguir são apresentadas algumas equações que podem ser úteis nos cálculos. \n",
        "\n",
        "O raio ($r$) é a metade do diâmetro ($D$):\n",
        "\n",
        "$$r = \\frac{D}{2}$$\n",
        "\n",
        "O ângulo $\\theta$ deverá ser calculado em radianos e pode ser obtido de acordo com a equação:\n",
        "\n",
        "$$\\theta = 2 \\, \\text{arc cos} \\left(\\frac{r-h}{r} \\right)$$\n",
        "\n",
        "A área da seção transversal do escoamento ($A$) é:\n",
        "\n",
        "$$A = \\frac{r^2 (\\theta - \\text{sen}\\theta)}{2}$$\n",
        "\n",
        "O perímetro molhado ($P$) é:\n",
        "\n",
        "$$P = r \\theta$$\n",
        "\n",
        "O raio hidráulico ($R_h$) é:\n",
        "\n",
        "$$R_h = \\frac{A}{P}$$\n",
        "\n",
        "\n",
        "Sugestão de leitura de [material com as equações](https://www.cedengineering.com/userfiles/Partially%20Full%20Pipe%20Flow%20Calculations.pdf).\n",
        "\n",
        "**No final do exercício II o/a discente deverá fazer 3 coisas:**\n",
        "\n",
        "**a) Mostrar um gráfico da vazão horária (m3/s) ao longo do tempo.** (não é o perfil diário de vazão).\n",
        "\n",
        "**b) Mostrar um histograma da vazão horária (m3/s).**\n",
        "\n",
        "**c) Calcular a mediana da vazão horária (m3/s)**\n"
      ]
    },
    {
      "cell_type": "code",
      "metadata": {
        "id": "SYQTLAvtafFk",
        "colab_type": "code",
        "colab": {}
      },
      "source": [
        ""
      ],
      "execution_count": null,
      "outputs": []
    }
  ]
}